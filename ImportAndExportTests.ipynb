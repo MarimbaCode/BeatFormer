{
 "cells": [
  {
   "cell_type": "code",
   "execution_count": 1,
   "id": "e608f5a1-b6fc-484e-a62e-f5e1b492dcb1",
   "metadata": {},
   "outputs": [],
   "source": [
    "import torch\n",
    "import numpy as np\n",
    "\n",
    "import song_loader\n",
    "import note_processer\n",
    "import audio_loader\n",
    "import song_converter\n",
    "\n",
    "import os\n",
    "import re\n",
    "\n",
    "\n",
    "\n",
    "test_song_path = \"./data/1cd59 (PanicPopFESTIVAL!!! - Shan_Man & Nolanimations)\"\n",
    "test_song_bpm = 230\n",
    "\n",
    "song_data = song_loader.load_song(test_song_path)\n",
    "\n",
    "song_tensors = []\n",
    "\n",
    "for song in song_data.keys():\n",
    "    song_tensor = note_processer.preprocess(song_data[song])\n",
    "    song_tensor = torch.Tensor(song_tensor)\n",
    "    song_tensors.append(song_tensor)\n",
    "    \n",
    "\n",
    "audio_path = test_song_path + \"/song.egg\"\n",
    "\n",
    "out_path = \"./out\""
   ]
  },
  {
   "cell_type": "code",
   "execution_count": 2,
   "id": "9b1a03cd-7071-4f92-8913-1105b8f32f24",
   "metadata": {},
   "outputs": [
    {
     "name": "stdout",
     "output_type": "stream",
     "text": [
      "torch.Size([6206, 3, 4, 19])\n",
      "Please add song to ./out\\PanicPopFESTIVAL!!!\n"
     ]
    }
   ],
   "source": [
    "song_converter.export_and_save(out_path, 'PanicPopFESTIVAL!!!', 'DJ Genki', test_song_bpm, song_tensors[-1])"
   ]
  }
 ],
 "metadata": {
  "kernelspec": {
   "display_name": "Python 3 (ipykernel)",
   "language": "python",
   "name": "python3"
  },
  "language_info": {
   "codemirror_mode": {
    "name": "ipython",
    "version": 3
   },
   "file_extension": ".py",
   "mimetype": "text/x-python",
   "name": "python",
   "nbconvert_exporter": "python",
   "pygments_lexer": "ipython3",
   "version": "3.11.3"
  }
 },
 "nbformat": 4,
 "nbformat_minor": 5
}
